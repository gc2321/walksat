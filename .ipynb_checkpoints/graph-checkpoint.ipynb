{
 "cells": [
  {
   "cell_type": "code",
   "execution_count": null,
   "metadata": {},
   "outputs": [],
   "source": [
    "import matplotlib.pyplot as plt\n",
    "import numpy as np\n",
    "import pandas as pd\n",
    "import math\n",
    "from collections import defaultdict"
   ]
  },
  {
   "cell_type": "code",
   "execution_count": null,
   "metadata": {},
   "outputs": [],
   "source": [
    "df = pd.read_csv(r'C:\\Users\\Kai\\Desktop\\CPSC 422\\Assignments\\A2\\Q2\\test.csv', names=[\"clauses\", \"times\"])"
   ]
  },
  {
   "cell_type": "code",
   "execution_count": null,
   "metadata": {},
   "outputs": [],
   "source": [
    "dict = defaultdict(list) \n",
    "\n",
    "for index, row in df.iterrows(): \n",
    "\n",
    "    if(row['times'] > 0):\n",
    "        dict[row['clauses']].append(row['times'])\n",
    "\n",
    "print(str(dict(new_dict)))\n",
    "\n",
    "for key, value in dict.items():\n",
    "    if len(value) > 0:\n",
    "        print(key, np.median(value))\n",
    "    else:\n",
    "        print(key, 0)\n",
    "\n",
    "# plt.plot(total_array, rain_array)\n",
    "# plt.xscale('log')\n",
    "# plt.show()"
   ]
  }
 ],
 "metadata": {
  "kernelspec": {
   "display_name": "Python 3",
   "language": "python",
   "name": "python3"
  },
  "language_info": {
   "codemirror_mode": {
    "name": "ipython",
    "version": 3
   },
   "file_extension": ".py",
   "mimetype": "text/x-python",
   "name": "python",
   "nbconvert_exporter": "python",
   "pygments_lexer": "ipython3",
   "version": "3.7.3"
  }
 },
 "nbformat": 4,
 "nbformat_minor": 2
}
