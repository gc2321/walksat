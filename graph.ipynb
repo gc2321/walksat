{
 "cells": [
  {
   "cell_type": "code",
   "execution_count": 1,
   "metadata": {},
   "outputs": [],
   "source": [
    "import matplotlib.pyplot as plt\n",
    "import numpy as np\n",
    "import pandas as pd\n",
    "import math\n",
    "from collections import defaultdict"
   ]
  },
  {
   "cell_type": "code",
   "execution_count": 2,
   "metadata": {},
   "outputs": [],
   "source": [
    "df = pd.read_csv(r'C:\\Users\\Kai\\Desktop\\walksat\\test.csv', names=[\"clauses\", \"times\"])"
   ]
  },
  {
   "cell_type": "code",
   "execution_count": 3,
   "metadata": {},
   "outputs": [
    {
     "name": "stdout",
     "output_type": "stream",
     "text": [
      "20 48 4.0\n",
      "40 49 15.0\n",
      "60 49 158.0\n",
      "80 37 2037.0\n",
      "100 10 6882.0\n",
      "120 2 10271.0\n"
     ]
    }
   ],
   "source": [
    "dict = defaultdict(list) \n",
    "\n",
    "clauses = []\n",
    "median = []\n",
    "\n",
    "for index, row in df.iterrows(): \n",
    "\n",
    "    if(row['times'] > 0):\n",
    "        dict[row['clauses']].append(row['times'])\n",
    "   \n",
    "# print(str(dict(new_dict)))\n",
    "\n",
    "for key, value in dict.items():\n",
    "    if len(value) > 0:\n",
    "        print(key, len(value), np.median(value))\n",
    "        clauses.append(key)\n",
    "        median.append(np.median(value))\n"
   ]
  },
  {
   "cell_type": "code",
   "execution_count": 4,
   "metadata": {},
   "outputs": [
    {
     "data": {
      "image/png": "[encoded data removed]",
      "text/plain": [
       "<Figure size 432x288 with 1 Axes>"
      ]
     },
     "metadata": {
      "needs_background": "light"
     },
     "output_type": "display_data"
    }
   ],
   "source": [
    "plt.plot(clauses, median)\n",
    "plt.show()"
   ]
  }
 ],
 "metadata": {
  "kernelspec": {
   "display_name": "Python 3",
   "language": "python",
   "name": "python3"
  },
  "language_info": {
   "codemirror_mode": {
    "name": "ipython",
    "version": 3
   },
   "file_extension": ".py",
   "mimetype": "text/x-python",
   "name": "python",
   "nbconvert_exporter": "python",
   "pygments_lexer": "ipython3",
   "version": "3.7.3"
  }
 },
 "nbformat": 4,
 "nbformat_minor": 2
}
